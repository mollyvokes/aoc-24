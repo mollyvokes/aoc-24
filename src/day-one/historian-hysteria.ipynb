{
 "cells": [
  {
   "cell_type": "markdown",
   "metadata": {},
   "source": [
    "## Day One\n",
    "\n",
    "### Overview\n",
    " Everyone is putting together their own location lists but they don't quite align, and you want to find the total difference across the lists.\n",
    " Order each list, and find the difference between the numbers at each index in both lists. Add up the total differences.\n"
   ]
  },
  {
   "cell_type": "code",
   "execution_count": null,
   "metadata": {},
   "outputs": [
    {
     "name": "stderr",
     "output_type": "stream",
     "text": [
      "/var/folders/25/x676vym125gc94pw_r3zbdgr0000gn/T/ipykernel_22850/1956006357.py:6: ParserWarning: Falling back to the 'python' engine because the 'c' engine does not support regex separators (separators > 1 char and different from '\\s+' are interpreted as regex); you can avoid this warning by specifying engine='python'.\n",
      "  data = pd.read_csv(\"day-one-source.csv\", names=['list_1', 'list_2'], delimiter='   ')\n"
     ]
    }
   ],
   "source": [
    "import pandas as pd\n",
    "\n",
    "data = pd.read_csv('day-one-source.csv', names=['list_1', 'list_2'], delimiter='   ')"
   ]
  },
  {
   "cell_type": "code",
   "execution_count": 52,
   "metadata": {},
   "outputs": [],
   "source": [
    "list_one = data['list_1'].to_list()\n",
    "list_one.sort()\n",
    "list_two = data['list_2'].to_list()\n",
    "list_two.sort()"
   ]
  },
  {
   "cell_type": "code",
   "execution_count": null,
   "metadata": {},
   "outputs": [
    {
     "name": "stdout",
     "output_type": "stream",
     "text": [
      "the total difference across the lists is:  2264607\n"
     ]
    }
   ],
   "source": [
    "# part one\n",
    "\n",
    "total_diff = 0\n",
    "for i in range(0, len(list_one)):\n",
    "    diff = list_one[i] - list_two[i]\n",
    "    total_diff += abs(diff)\n",
    "    \n",
    "print(\"the total difference across the lists is:\", total_diff)"
   ]
  },
  {
   "cell_type": "code",
   "execution_count": 56,
   "metadata": {},
   "outputs": [
    {
     "name": "stdout",
     "output_type": "stream",
     "text": [
      "the total similarity score is: 19457120\n"
     ]
    }
   ],
   "source": [
    "# part two\n",
    "\n",
    "similarity_score = 0\n",
    "\n",
    "for i in range(0, len(list_one)):\n",
    "    occ = list_two.count(list_one[i])\n",
    "    similarity_score += occ * list_one[i]\n",
    "    \n",
    "print(\"the total similarity score is:\", similarity_score)"
   ]
  }
 ],
 "metadata": {
  "kernelspec": {
   "display_name": ".venv",
   "language": "python",
   "name": "python3"
  },
  "language_info": {
   "codemirror_mode": {
    "name": "ipython",
    "version": 3
   },
   "file_extension": ".py",
   "mimetype": "text/x-python",
   "name": "python",
   "nbconvert_exporter": "python",
   "pygments_lexer": "ipython3",
   "version": "3.8.5"
  }
 },
 "nbformat": 4,
 "nbformat_minor": 2
}
