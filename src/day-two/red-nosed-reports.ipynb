{
 "cells": [
  {
   "cell_type": "markdown",
   "metadata": {},
   "source": [
    "# Day Two\n",
    "\n",
    "## Red-Nosed Reports\n",
    "\n",
    "The engineers at the red-nosed reindeer nuclear fission / fusion plant need help analysing some unusual data from the reactor.\n",
    "The unusual data is many reports - one per line. Each is a list of numbers called levels, separated by spaces. They want to know which are safe - meaning that the lines are all increasing or decreasing AND any two adjacent levels differ by at least one and at most 3.\n",
    "\n",
    "e.g:\n",
    "7 6 4 2 1 = safe\n",
    "9 7 6 2 1 = unsafe (6-2 > 3)\n",
    "\n",
    "## Part One\n",
    "Find the number of safe reports\n"
   ]
  },
  {
   "cell_type": "code",
   "execution_count": 37,
   "metadata": {},
   "outputs": [],
   "source": [
    "file_path = 'day-two-source.txt'\n",
    "\n",
    "with open('day-two-source.txt', 'r') as file:\n",
    "    data = [list(map(int, line.split())) for line in file]\n",
    "    \n"
   ]
  },
  {
   "cell_type": "code",
   "execution_count": 27,
   "metadata": {},
   "outputs": [
    {
     "name": "stdout",
     "output_type": "stream",
     "text": [
      "the number of safe levels is: 332\n"
     ]
    }
   ],
   "source": [
    "safe_levels = 0\n",
    "\n",
    "for report in data:\n",
    "    sorted_report = sorted(report)\n",
    "    safe = True\n",
    "    if sorted_report == report or sorted_report == report[::-1]:\n",
    "        for i in range(0, len(report)-1):\n",
    "            diff = report[i] - report[i+1]\n",
    "            if abs(diff) > 3 or diff == 0:\n",
    "                safe = False\n",
    "    else:\n",
    "        safe = False\n",
    "        \n",
    "    if safe:\n",
    "        safe_levels += 1\n",
    "    \n",
    "print('the number of safe levels is:', safe_levels)"
   ]
  },
  {
   "cell_type": "markdown",
   "metadata": {},
   "source": [
    "# Part 2\n",
    "\n",
    "you can have one bad level in each report"
   ]
  },
  {
   "cell_type": "code",
   "execution_count": null,
   "metadata": {},
   "outputs": [
    {
     "name": "stdout",
     "output_type": "stream",
     "text": [
      "the number of safe levels is: 398\n"
     ]
    }
   ],
   "source": [
    "safe_levels = 0\n",
    "\n",
    "def check_report(report):\n",
    "    sorted_report = sorted(report)\n",
    "    safe = True\n",
    "    if sorted_report == report or sorted_report == report[::-1]:\n",
    "        for i in range(0, len(report)-1):\n",
    "            diff = report[i] - report[i+1]\n",
    "            if abs(diff) > 3 or diff == 0:\n",
    "                safe = False\n",
    "    else:\n",
    "        safe = False\n",
    "        \n",
    "    return safe\n",
    "\n",
    "for report in data:\n",
    "    if check_report(report):\n",
    "        safe_levels += 1\n",
    "    else:\n",
    "        for i in range(0, len(report)):\n",
    "            new_test_report = report.copy()\n",
    "            del new_test_report[i]\n",
    "            if check_report(new_test_report):\n",
    "                safe_levels += 1\n",
    "                break\n",
    "        \n",
    "\n",
    "    \n",
    "print('the number of safe levels is:', safe_levels)"
   ]
  },
  {
   "cell_type": "code",
   "execution_count": null,
   "metadata": {},
   "outputs": [],
   "source": []
  },
  {
   "cell_type": "code",
   "execution_count": null,
   "metadata": {},
   "outputs": [],
   "source": []
  }
 ],
 "metadata": {
  "kernelspec": {
   "display_name": ".venv",
   "language": "python",
   "name": "python3"
  },
  "language_info": {
   "codemirror_mode": {
    "name": "ipython",
    "version": 3
   },
   "file_extension": ".py",
   "mimetype": "text/x-python",
   "name": "python",
   "nbconvert_exporter": "python",
   "pygments_lexer": "ipython3",
   "version": "3.8.5"
  }
 },
 "nbformat": 4,
 "nbformat_minor": 2
}
